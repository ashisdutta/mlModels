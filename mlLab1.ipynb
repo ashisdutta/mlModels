{
 "cells": [
  {
   "cell_type": "code",
   "execution_count": 3,
   "id": "714b1f72",
   "metadata": {},
   "outputs": [
    {
     "name": "stdout",
     "output_type": "stream",
     "text": [
      "                                                                                 ###### txt or csv data #######\n",
      "Name          Team           Number Position Age Height Weight College                                   Salary\n",
      "Avery Bradley Boston Celtics 0      PG       25  06-Feb 180    Texas                                    7730337\n",
      "Jae Crowder   Boston Celtics 99     SF       25  06-Jun 235    Marquette                                6796117\n",
      "John Holland  Boston Celtics 30     SG       27  06-May 205    Boston University                            NaN\n",
      "R.J. Hunter   Boston Celtics 28     SG       22  06-May 185    Georgia State                            1148640\n",
      "...                                                                                                         ...\n",
      "df            NaN            NaN    NaN      NaN NaN    NaN    NaN                                          NaN\n",
      "df.head()     NaN            NaN    NaN      NaN NaN    NaN    NaN                                          NaN\n",
      "df.tail()     NaN            NaN    NaN      NaN NaN    NaN    NaN                                          NaN\n",
      "df.columns    NaN            NaN    NaN      NaN NaN    NaN    NaN                                          NaN\n",
      "df.info()     NaN            NaN    NaN      NaN NaN    NaN    NaN                                          NaN\n",
      "\n",
      "[467 rows x 1 columns]\n"
     ]
    }
   ],
   "source": [
    "#Load data from txt with pandas\n",
    "import pandas as pd\n",
    "df = pd.read_table(\"E:/6th sem lab/ml lab/6fablab.txt\") \n",
    "print(df)"
   ]
  },
  {
   "cell_type": "code",
   "execution_count": 8,
   "id": "f7484bcd",
   "metadata": {},
   "outputs": [
    {
     "name": "stdout",
     "output_type": "stream",
     "text": [
      "   Employee List  Unnamed: 1 Unnamed: 2 Unnamed: 3\n",
      "0            NaN         NaN        NaN        NaN\n",
      "1      Last Name  First Name     Status     Salary\n",
      "2       Williams        Mary  Full Time   $35,000 \n",
      "3          Brown      Robert  Full Time   $32,000 \n",
      "4         Wilson   Elizabeth  Part Time   $12,000 \n",
      "5          Moore    Jennifer  Full Time   $41,000 \n",
      "6          Brown     Charles  Full Time   $39,000 \n",
      "7          Price        Lisa  Part Time   $14,000 \n",
      "8           Wood      Daniel  Part Time   $13,750 \n",
      "9        Coleman      Donald  Full Time   $37,500 \n",
      "10         Perry      George  Part Time   $12,050 \n",
      "11        Steele       Donna  Full Time   $36,750 \n",
      "12       Schultz       Carol  Full Time   $38,050 \n",
      "13         Munoz        Ruth  Part Time   $11,000 \n",
      "14      Chandler       Jason  Full Time   $29,000 \n",
      "15         Small     Matthew  Full Time   $45,500 \n",
      "16       Hensley     Jessica  Full Time   $52,000 \n",
      "17         Brown        Gary  Part Time    $8,000 \n",
      "18        Grimes        Jose  Part Time   $17,000 \n",
      "19        Baxter      Brenda  Full Time   $36,000 \n",
      "20         Morin       Frank  Full Time   $36,500 \n",
      "21       Tillman    Kathleen  Part Time    $9,750 \n",
      "22         Huber      Joshua  Full Time   $31,750 \n",
      "23         Boyle       Debra  Full Time   $38,050 \n",
      "24       Buckner       Jerry  Full Time   $37,500 \n",
      "25       Knowles       Aaron  Part Time   $10,050 \n",
      "26     Velazquez      Carlos  Part Time    $9,075 \n",
      "27          Vang     Marilyn  Full Time   $29,750 \n",
      "28           NaN         NaN        NaN        NaN\n"
     ]
    }
   ],
   "source": [
    "#load data from csv file\n",
    "import pandas as pd\n",
    "df = pd.read_csv(\"E:/6th sem lab/ml lab/salary.csv\")\n",
    "print(df)"
   ]
  },
  {
   "cell_type": "code",
   "execution_count": 11,
   "id": "140fc058",
   "metadata": {},
   "outputs": [],
   "source": [
    "#convert txt file to csv file\n",
    "import pandas as pd\n",
    "df = pd.read_csv(\"E:/6th sem lab/ml lab/6fablab.txt\")\n",
    "df.to_csv(\"E:/6th sem lab/ml lab/textToCsv.csv\",index=None)"
   ]
  },
  {
   "cell_type": "code",
   "execution_count": 12,
   "id": "4e8cb71b",
   "metadata": {},
   "outputs": [],
   "source": [
    "#convert csv to txt\n",
    "import pandas as pd\n",
    "df = pd.read_csv(\"E:/6th sem lab/ml lab/textToCsv.csv\")\n",
    "df.to_csv(\"E:/6th sem lab/ml lab/csvToTxt.txt\", index= None, sep=\"\\t\")"
   ]
  },
  {
   "cell_type": "code",
   "execution_count": null,
   "id": "4e14d525",
   "metadata": {},
   "outputs": [],
   "source": []
  }
 ],
 "metadata": {
  "kernelspec": {
   "display_name": "Python 3 (ipykernel)",
   "language": "python",
   "name": "python3"
  },
  "language_info": {
   "codemirror_mode": {
    "name": "ipython",
    "version": 3
   },
   "file_extension": ".py",
   "mimetype": "text/x-python",
   "name": "python",
   "nbconvert_exporter": "python",
   "pygments_lexer": "ipython3",
   "version": "3.9.13"
  }
 },
 "nbformat": 4,
 "nbformat_minor": 5
}
